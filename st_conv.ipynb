{
 "cells": [
  {
   "cell_type": "code",
   "execution_count": 40,
   "metadata": {},
   "outputs": [],
   "source": [
    "\n",
    "import torch\n",
    "from models.layers.st_conv import STConv\n"
   ]
  },
  {
   "cell_type": "code",
   "execution_count": 41,
   "metadata": {},
   "outputs": [
    {
     "name": "stdout",
     "output_type": "stream",
     "text": [
      "tensor([[[1., -0., 0.],\n",
      "         [0., 1., 0.]],\n",
      "\n",
      "        [[1., -0., 0.],\n",
      "         [0., 1., 0.]],\n",
      "\n",
      "        [[1., -0., 0.],\n",
      "         [0., 1., 0.]],\n",
      "\n",
      "        [[1., -0., 0.],\n",
      "         [0., 1., 0.]]])\n",
      "True\n"
     ]
    }
   ],
   "source": [
    "st_conv = STConv(in_channels=1,\n",
    "                 out_channels=16,\n",
    "                 kernel_size=5,\n",
    "                 localization_channels=32,\n",
    "                 localization_initialization_mode=\"identity\",\n",
    "                 transformation_mode=\"rotation\")\n",
    "\n",
    "x = torch.rand(4, 1, 28, 28)\n",
    "with torch.no_grad():\n",
    "  print(torch.round(st_conv.localize(x)))\n",
    "  print(torch.allclose(st_conv.transform(x), x, atol=1e-5, rtol=1e-5))\n"
   ]
  },
  {
   "cell_type": "code",
   "execution_count": 42,
   "metadata": {},
   "outputs": [
    {
     "name": "stdout",
     "output_type": "stream",
     "text": [
      "tensor([[[1., 0., 0.],\n",
      "         [0., 1., 0.]],\n",
      "\n",
      "        [[1., 0., 0.],\n",
      "         [0., 1., 0.]],\n",
      "\n",
      "        [[1., 0., 0.],\n",
      "         [0., 1., 0.]],\n",
      "\n",
      "        [[1., 0., 0.],\n",
      "         [0., 1., 0.]]])\n",
      "True\n"
     ]
    }
   ],
   "source": [
    "st_conv = STConv(in_channels=1,\n",
    "                 out_channels=16,\n",
    "                 kernel_size=5,\n",
    "                 localization_channels=32,\n",
    "                 localization_initialization_mode=\"identity\",\n",
    "                 transformation_mode=\"affine\")\n",
    "\n",
    "x = torch.rand(4, 1, 28, 28)\n",
    "with torch.no_grad():\n",
    "  print(torch.round(st_conv.localize(x)))\n",
    "  print(torch.allclose(st_conv.transform(x), x, atol=1e-5, rtol=1e-5))\n"
   ]
  }
 ],
 "metadata": {
  "kernelspec": {
   "display_name": "geometric-deep-learning-7fBP83ZS",
   "language": "python",
   "name": "python3"
  },
  "language_info": {
   "codemirror_mode": {
    "name": "ipython",
    "version": 3
   },
   "file_extension": ".py",
   "mimetype": "text/x-python",
   "name": "python",
   "nbconvert_exporter": "python",
   "pygments_lexer": "ipython3",
   "version": "3.9.16"
  },
  "orig_nbformat": 4
 },
 "nbformat": 4,
 "nbformat_minor": 2
}
