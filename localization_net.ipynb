{
 "cells": [
  {
   "cell_type": "code",
   "execution_count": 7,
   "metadata": {},
   "outputs": [],
   "source": [
    "import torch\n",
    "from models.localization_net import LocalizationNet\n"
   ]
  },
  {
   "cell_type": "code",
   "execution_count": 8,
   "metadata": {},
   "outputs": [
    {
     "name": "stdout",
     "output_type": "stream",
     "text": [
      "tensor([[[1., 0., 0.],\n",
      "         [0., 1., 0.]]])\n"
     ]
    }
   ],
   "source": [
    "identity_affine_localization = LocalizationNet(\n",
    "    in_channels=1,\n",
    "    kernel_size=5,\n",
    "    localization_channels=32,\n",
    "    initialization_mode=\"identity\",\n",
    "    transformation_mode=\"affine\",\n",
    "    global_pooling=\"max\"\n",
    ")\n",
    "\n",
    "input_fmap = torch.rand((1, 1, 28, 28))\n",
    "\n",
    "with torch.no_grad():\n",
    "  print(torch.round(identity_affine_localization(input_fmap)))\n"
   ]
  },
  {
   "cell_type": "code",
   "execution_count": 9,
   "metadata": {},
   "outputs": [
    {
     "name": "stdout",
     "output_type": "stream",
     "text": [
      "tensor([[[1., -0., 0.],\n",
      "         [0., 1., 0.]]])\n"
     ]
    }
   ],
   "source": [
    "identity_rotation_localization = LocalizationNet(\n",
    "    in_channels=1,\n",
    "    kernel_size=5,\n",
    "    localization_channels=32,\n",
    "    initialization_mode=\"identity\",\n",
    "    transformation_mode=\"rotation\",\n",
    "    global_pooling=\"max\"\n",
    ")\n",
    "\n",
    "input_fmap = torch.rand((1, 1, 28, 28))\n",
    "\n",
    "with torch.no_grad():\n",
    "  print(torch.round(identity_rotation_localization(input_fmap)))\n"
   ]
  },
  {
   "cell_type": "code",
   "execution_count": 10,
   "metadata": {},
   "outputs": [
    {
     "name": "stdout",
     "output_type": "stream",
     "text": [
      "tensor([[[-0.0840, -0.0456,  0.0997],\n",
      "         [ 0.8037, -0.4590,  0.8300]]])\n"
     ]
    }
   ],
   "source": [
    "random_affine_localization = LocalizationNet(\n",
    "    in_channels=1,\n",
    "    kernel_size=5,\n",
    "    localization_channels=32,\n",
    "    initialization_mode=\"random\",\n",
    "    transformation_mode=\"affine\",\n",
    "    global_pooling=\"max\"\n",
    ")\n",
    "\n",
    "input_fmap = torch.rand((1, 1, 28, 28))\n",
    "\n",
    "with torch.no_grad():\n",
    "  print(random_affine_localization(input_fmap))\n"
   ]
  },
  {
   "cell_type": "code",
   "execution_count": 11,
   "metadata": {},
   "outputs": [
    {
     "name": "stdout",
     "output_type": "stream",
     "text": [
      "tensor([[[-0.8321,  0.5546, -0.0000],\n",
      "         [-0.5546, -0.8321, -0.0000]]])\n"
     ]
    }
   ],
   "source": [
    "random_rotation_localization = LocalizationNet(\n",
    "    in_channels=1,\n",
    "    kernel_size=5,\n",
    "    localization_channels=32,\n",
    "    initialization_mode=\"random\",\n",
    "    transformation_mode=\"rotation\",\n",
    "    global_pooling=\"max\"\n",
    ")\n",
    "\n",
    "input_fmap = torch.rand((1, 1, 28, 28))\n",
    "\n",
    "with torch.no_grad():\n",
    "  print(random_rotation_localization(input_fmap))\n"
   ]
  }
 ],
 "metadata": {
  "kernelspec": {
   "display_name": "geometric-deep-learning-7fBP83ZS",
   "language": "python",
   "name": "python3"
  },
  "language_info": {
   "codemirror_mode": {
    "name": "ipython",
    "version": 3
   },
   "file_extension": ".py",
   "mimetype": "text/x-python",
   "name": "python",
   "nbconvert_exporter": "python",
   "pygments_lexer": "ipython3",
   "version": "3.9.16"
  },
  "orig_nbformat": 4
 },
 "nbformat": 4,
 "nbformat_minor": 2
}
