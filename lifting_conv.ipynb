{
 "cells": [
  {
   "cell_type": "code",
   "execution_count": 1,
   "metadata": {},
   "outputs": [],
   "source": [
    "import torch\n"
   ]
  },
  {
   "cell_type": "code",
   "execution_count": 2,
   "metadata": {},
   "outputs": [],
   "source": [
    "N = 1\n",
    "H = 28\n",
    "W = 28\n",
    "out_channels = 16\n",
    "kernel_size = 5\n"
   ]
  },
  {
   "cell_type": "code",
   "execution_count": 3,
   "metadata": {},
   "outputs": [],
   "source": [
    "from groups.discrete_so2 import DiscreteSO2\n",
    "from models.layers.lifting_conv import LiftingConv\n",
    "\n",
    "group = DiscreteSO2(order=4, device=\"cpu\")\n",
    "conv = LiftingConv(\n",
    "    group=group,\n",
    "    in_channels=1,\n",
    "    out_channels=out_channels,\n",
    "    kernel_size=kernel_size\n",
    ")\n"
   ]
  },
  {
   "cell_type": "code",
   "execution_count": 5,
   "metadata": {},
   "outputs": [
    {
     "name": "stdout",
     "output_type": "stream",
     "text": [
      "torch.Size([1, 16, 4, 26, 26])\n"
     ]
    }
   ],
   "source": [
    "signal = torch.rand((1, H, W))\n",
    "print(conv(signal.view(1, 1, H, W)).shape)\n"
   ]
  },
  {
   "cell_type": "code",
   "execution_count": null,
   "metadata": {},
   "outputs": [
    {
     "data": {
      "text/plain": [
       "torch.Size([4, 1, 28, 28])"
      ]
     },
     "execution_count": 5,
     "metadata": {},
     "output_type": "execute_result"
    }
   ],
   "source": [
    "rotated_signal_per_group_elem = group.left_action_on_r_n_signal(\n",
    "    group.elements(), signal)\n",
    "rotated_signal_per_group_elem.shape\n"
   ]
  },
  {
   "cell_type": "code",
   "execution_count": null,
   "metadata": {},
   "outputs": [
    {
     "name": "stdout",
     "output_type": "stream",
     "text": [
      "True\n",
      "True\n",
      "True\n",
      "True\n"
     ]
    }
   ],
   "source": [
    "for i in range(len(group.elements())):\n",
    "  with torch.no_grad():\n",
    "    g = group.elements()[i]\n",
    "    rotated_signal = rotated_signal_per_group_elem[i]\n",
    "\n",
    "    rotated_signal_then_conv = conv(rotated_signal.view(\n",
    "        1, *rotated_signal.shape)).squeeze(0)\n",
    "    original_signal_conv = conv(signal.view(1, *signal.shape)).squeeze(0)\n",
    "    original_signal_conv_then_rotation = group.left_action_on_group_signal(\n",
    "        g.view(1, 1), original_signal_conv).squeeze(0)\n",
    "\n",
    "    # check equivariance\n",
    "    print(\n",
    "        torch.allclose(rotated_signal_then_conv,\n",
    "                       original_signal_conv_then_rotation, atol=1e-5, rtol=1e-5)\n",
    "    )\n"
   ]
  }
 ],
 "metadata": {
  "kernelspec": {
   "display_name": "geometric-deep-learning-7fBP83ZS",
   "language": "python",
   "name": "python3"
  },
  "language_info": {
   "codemirror_mode": {
    "name": "ipython",
    "version": 3
   },
   "file_extension": ".py",
   "mimetype": "text/x-python",
   "name": "python",
   "nbconvert_exporter": "python",
   "pygments_lexer": "ipython3",
   "version": "3.9.16"
  },
  "orig_nbformat": 4
 },
 "nbformat": 4,
 "nbformat_minor": 2
}
