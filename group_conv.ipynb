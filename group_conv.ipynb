{
 "cells": [
  {
   "cell_type": "code",
   "execution_count": 92,
   "metadata": {},
   "outputs": [],
   "source": [
    "import torch\n",
    "\n",
    "order = 4\n",
    "H = 23\n",
    "W = 23\n",
    "in_channels = 16\n",
    "out_channels = 32\n",
    "kernel_size = 5\n"
   ]
  },
  {
   "cell_type": "code",
   "execution_count": 93,
   "metadata": {},
   "outputs": [],
   "source": [
    "from groups.discrete_so2 import DiscreteSO2\n",
    "from models.layers.group_conv import GroupConv\n",
    "\n",
    "group = DiscreteSO2(order=4, device=\"cpu\")\n",
    "conv = GroupConv(\n",
    "    group=group,\n",
    "    in_channels=in_channels,\n",
    "    out_channels=out_channels,\n",
    "    kernel_size=kernel_size\n",
    ")\n"
   ]
  },
  {
   "attachments": {},
   "cell_type": "markdown",
   "metadata": {},
   "source": [
    "Check equivariance"
   ]
  },
  {
   "cell_type": "code",
   "execution_count": 94,
   "metadata": {},
   "outputs": [
    {
     "name": "stdout",
     "output_type": "stream",
     "text": [
      "True\n",
      "True\n",
      "True\n",
      "True\n"
     ]
    }
   ],
   "source": [
    "group_in_signal = torch.randn(in_channels, order, H, W)\n",
    "batched_group_signal = group_in_signal.view(1, *group_in_signal.shape)\n",
    "\n",
    "for g in group.elements():\n",
    "  rotated_group_in_signal = group.left_action_on_group_signal(\n",
    "      g.view(1, 1), group_in_signal).squeeze(0)\n",
    "  rotate_then_conv = conv(\n",
    "      rotated_group_in_signal.view(1, *group_in_signal.shape))\n",
    "\n",
    "  convolved_in_signal = conv(group_in_signal.view(\n",
    "      1, *group_in_signal.shape)).squeeze(0)\n",
    "  conv_then_rotated = group.left_action_on_group_signal(\n",
    "      g.view(1, 1), convolved_in_signal)\n",
    "\n",
    "  # check equivariance\n",
    "  print(\n",
    "      torch.allclose(conv_then_rotated,\n",
    "                     rotate_then_conv, atol=1e-5, rtol=1e-5)\n",
    "  )\n"
   ]
  }
 ],
 "metadata": {
  "kernelspec": {
   "display_name": "geometric-deep-learning-7fBP83ZS",
   "language": "python",
   "name": "python3"
  },
  "language_info": {
   "codemirror_mode": {
    "name": "ipython",
    "version": 3
   },
   "file_extension": ".py",
   "mimetype": "text/x-python",
   "name": "python",
   "nbconvert_exporter": "python",
   "pygments_lexer": "ipython3",
   "version": "3.9.16"
  },
  "orig_nbformat": 4
 },
 "nbformat": 4,
 "nbformat_minor": 2
}
